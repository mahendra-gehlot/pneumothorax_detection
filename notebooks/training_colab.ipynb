{
  "nbformat": 4,
  "nbformat_minor": 0,
  "metadata": {
    "colab": {
      "provenance": []
    },
    "kernelspec": {
      "name": "python3",
      "display_name": "Python 3"
    },
    "language_info": {
      "name": "python"
    },
    "accelerator": "GPU"
  },
  "cells": [
    {
      "cell_type": "code",
      "source": [
        "!git clone https://github.com/mahendra-gehlot/pneumothorax_detection"
      ],
      "metadata": {
        "colab": {
          "base_uri": "https://localhost:8080/"
        },
        "id": "U_BD4UoliFsu",
        "outputId": "57475c4b-1f86-402b-acbd-b501d8f4434b"
      },
      "execution_count": null,
      "outputs": [
        {
          "output_type": "stream",
          "name": "stdout",
          "text": [
            "Cloning into 'pneumothorax_detection'...\n",
            "remote: Enumerating objects: 155, done.\u001b[K\n",
            "remote: Counting objects: 100% (155/155), done.\u001b[K\n",
            "remote: Compressing objects: 100% (129/129), done.\u001b[K\n",
            "remote: Total 155 (delta 62), reused 62 (delta 17), pack-reused 0\u001b[K\n",
            "Receiving objects: 100% (155/155), 41.48 KiB | 866.00 KiB/s, done.\n",
            "Resolving deltas: 100% (62/62), done.\n"
          ]
        }
      ]
    },
    {
      "cell_type": "code",
      "source": [
        "# upload dataset to data/external directory form https://www.kaggle.com/datasets/volodymyrgavrysh/pneumothorax-binary-classification-task\n",
        "\n",
        "#setting up data from my google drive\n",
        "%cd pneumothorax_detection\n",
        "%rm -rf data/external\n",
        "\n",
        "from google.colab import drive\n",
        "drive.mount('/content/gdrive')\n",
        "!ln -s \"/content/gdrive/MyDrive/external\" \"/content/pneumothorax_detection/data\""
      ],
      "metadata": {
        "colab": {
          "base_uri": "https://localhost:8080/"
        },
        "id": "UG6MfuaeuCpq",
        "outputId": "c56c7b8e-3d31-4819-813b-61637d5fdd3b"
      },
      "execution_count": null,
      "outputs": [
        {
          "output_type": "stream",
          "name": "stdout",
          "text": [
            "Drive already mounted at /content/gdrive; to attempt to forcibly remount, call drive.mount(\"/content/gdrive\", force_remount=True).\n"
          ]
        }
      ]
    },
    {
      "cell_type": "code",
      "source": [
        "%matplotlib inline"
      ],
      "metadata": {
        "id": "1LE8EEcDsmqv"
      },
      "execution_count": null,
      "outputs": []
    },
    {
      "cell_type": "code",
      "source": [
        "!python3 src/data/prepare_data.py"
      ],
      "metadata": {
        "id": "ea_mwRc0pARD"
      },
      "execution_count": null,
      "outputs": []
    },
    {
      "cell_type": "code",
      "source": [
        "!python3 src/model/train.py -h"
      ],
      "metadata": {
        "colab": {
          "base_uri": "https://localhost:8080/"
        },
        "id": "JJ0WGwwGwx9w",
        "outputId": "f70f8dbb-22a6-4e60-97e6-d3c5813aef31"
      },
      "execution_count": null,
      "outputs": [
        {
          "output_type": "stream",
          "name": "stdout",
          "text": [
            "usage: train.py [-h] [-m {B0,B4}] -v VERSION [-e EPOCHS] save_model make_plots\n",
            "\n",
            "specify arguments of training\n",
            "\n",
            "positional arguments:\n",
            "  save_model            saves trained model\n",
            "  make_plots            plots of losses and accuracy are stored\n",
            "\n",
            "optional arguments:\n",
            "  -h, --help            show this help message and exit\n",
            "  -m {B0,B4}, --model {B0,B4}\n",
            "                        select models of efficient-net\n",
            "  -v VERSION, --version VERSION\n",
            "                        specify version e.g v0 v1 v2...\n",
            "  -e EPOCHS, --epochs EPOCHS\n",
            "                        Number of epochs for training\n"
          ]
        }
      ]
    },
    {
      "cell_type": "code",
      "source": [
        "!python3 src/model/train.py -v v0 -m B0 -e 20 1 0"
      ],
      "metadata": {
        "colab": {
          "base_uri": "https://localhost:8080/"
        },
        "id": "UFmpW8J6xtup",
        "outputId": "5e6cbae8-ba99-44f6-85db-dbd90080d1d3"
      },
      "execution_count": null,
      "outputs": [
        {
          "output_type": "stream",
          "name": "stdout",
          "text": [
            "Using cache found in /root/.cache/torch/hub/NVIDIA_DeepLearningExamples_torchhub\n",
            "/root/.cache/torch/hub/NVIDIA_DeepLearningExamples_torchhub/PyTorch/Classification/ConvNets/image_classification/models/common.py:14: UserWarning: pytorch_quantization module not found, quantization will not be available\n",
            "  \"pytorch_quantization module not found, quantization will not be available\"\n",
            "/root/.cache/torch/hub/NVIDIA_DeepLearningExamples_torchhub/PyTorch/Classification/ConvNets/image_classification/models/efficientnet.py:18: UserWarning: pytorch_quantization module not found, quantization will not be available\n",
            "  \"pytorch_quantization module not found, quantization will not be available\"\n",
            "0it [00:00, ?it/s]\n",
            "Epoch 1/20\n",
            "-----------Trainning in Progress --------------\n",
            "100% 23/23 [00:30<00:00,  1.31s/it]\n",
            "Training Loss: 0.553873 Training Acc.: 0.779835\n",
            "-----------Validation in Progress --------------\n",
            "100% 13/13 [00:06<00:00,  2.06it/s]\n",
            "\n",
            "Val Loss: 0.6158 Val Acc.: 0.7685\n",
            "\n",
            "1it [00:36, 36.36s/it]\n",
            "Epoch 2/20\n",
            "-----------Trainning in Progress --------------\n",
            "100% 23/23 [00:28<00:00,  1.24s/it]\n",
            "Training Loss: 0.489353 Training Acc.: 0.781893\n",
            "-----------Validation in Progress --------------\n",
            "100% 13/13 [00:06<00:00,  2.06it/s]\n",
            "\n",
            "Val Loss: 0.5746 Val Acc.: 0.7685\n",
            "\n",
            "2it [01:11, 35.44s/it]\n",
            "Epoch 3/20\n",
            "-----------Trainning in Progress --------------\n",
            "100% 23/23 [00:28<00:00,  1.25s/it]\n",
            "Training Loss: 0.336313 Training Acc.: 0.846365\n",
            "-----------Validation in Progress --------------\n",
            "100% 13/13 [00:06<00:00,  2.05it/s]\n",
            "\n",
            "Val Loss: 0.5706 Val Acc.: 0.7685\n",
            "\n",
            "3it [01:46, 35.27s/it]\n",
            "Epoch 4/20\n",
            "-----------Trainning in Progress --------------\n",
            "100% 23/23 [00:28<00:00,  1.22s/it]\n",
            "Training Loss: 0.263275 Training Acc.: 0.893690\n",
            "-----------Validation in Progress --------------\n",
            "100% 13/13 [00:06<00:00,  2.10it/s]\n",
            "\n",
            "Val Loss: 0.8074 Val Acc.: 0.2315\n",
            "\n",
            "4it [02:20, 34.88s/it]\n",
            "Epoch 5/20\n",
            "-----------Trainning in Progress --------------\n",
            "100% 23/23 [00:28<00:00,  1.23s/it]\n",
            "Training Loss: 0.124809 Training Acc.: 0.948560\n",
            "-----------Validation in Progress --------------\n",
            "100% 13/13 [00:06<00:00,  2.05it/s]\n",
            "\n",
            "Val Loss: 0.5417 Val Acc.: 0.7685\n",
            "\n",
            "5it [02:55, 34.77s/it]\n",
            "Epoch 6/20\n",
            "-----------Trainning in Progress --------------\n",
            "100% 23/23 [00:28<00:00,  1.24s/it]\n",
            "Training Loss: 0.064368 Training Acc.: 0.974623\n",
            "-----------Validation in Progress --------------\n",
            "100% 13/13 [00:06<00:00,  2.08it/s]\n",
            "\n",
            "Val Loss: 0.5413 Val Acc.: 0.7685\n",
            "\n",
            "6it [03:29, 34.74s/it]\n",
            "Epoch 7/20\n",
            "-----------Trainning in Progress --------------\n",
            "100% 23/23 [00:28<00:00,  1.23s/it]\n",
            "Training Loss: 0.058067 Training Acc.: 0.978052\n",
            "-----------Validation in Progress --------------\n",
            "100% 13/13 [00:06<00:00,  1.91it/s]\n",
            "\n",
            "Val Loss: 0.7701 Val Acc.: 0.2315\n",
            "\n",
            "7it [04:04, 34.89s/it]\n",
            "Epoch 8/20\n",
            "-----------Trainning in Progress --------------\n",
            "100% 23/23 [00:28<00:00,  1.25s/it]\n",
            "Training Loss: 0.062309 Training Acc.: 0.973937\n",
            "-----------Validation in Progress --------------\n",
            "100% 13/13 [00:06<00:00,  2.07it/s]\n",
            "\n",
            "Val Loss: 0.5444 Val Acc.: 0.7685\n",
            "\n",
            "8it [04:40, 34.95s/it]\n",
            "Epoch 9/20\n",
            "-----------Trainning in Progress --------------\n",
            "100% 23/23 [00:28<00:00,  1.23s/it]\n",
            "Training Loss: 0.055779 Training Acc.: 0.977366\n",
            "-----------Validation in Progress --------------\n",
            "100% 13/13 [00:06<00:00,  2.07it/s]\n",
            "\n",
            "Val Loss: 0.6685 Val Acc.: 0.7685\n",
            "\n",
            "9it [05:14, 34.83s/it]\n",
            "Epoch 10/20\n",
            "-----------Trainning in Progress --------------\n",
            "100% 23/23 [00:28<00:00,  1.23s/it]\n",
            "Training Loss: 0.044027 Training Acc.: 0.983539\n",
            "-----------Validation in Progress --------------\n",
            "100% 13/13 [00:06<00:00,  2.06it/s]\n",
            "\n",
            "Val Loss: 1.1194 Val Acc.: 0.7685\n",
            "\n",
            "10it [05:49, 34.79s/it]\n",
            "Epoch 11/20\n",
            "-----------Trainning in Progress --------------\n",
            "100% 23/23 [00:28<00:00,  1.23s/it]\n",
            "Training Loss: 0.022176 Training Acc.: 0.993141\n",
            "-----------Validation in Progress --------------\n",
            "100% 13/13 [00:06<00:00,  2.08it/s]\n",
            "\n",
            "Val Loss: 0.7358 Val Acc.: 0.7685\n",
            "\n",
            "11it [06:23, 34.73s/it]\n",
            "Epoch 12/20\n",
            "-----------Trainning in Progress --------------\n",
            "100% 23/23 [00:29<00:00,  1.28s/it]\n",
            "Training Loss: 0.014110 Training Acc.: 0.993827\n",
            "-----------Validation in Progress --------------\n",
            "100% 13/13 [00:06<00:00,  2.09it/s]\n",
            "\n",
            "Val Loss: 0.5713 Val Acc.: 0.7685\n",
            "\n",
            "12it [06:59, 35.00s/it]\n",
            "Epoch 13/20\n",
            "-----------Trainning in Progress --------------\n",
            "100% 23/23 [00:28<00:00,  1.23s/it]\n",
            "Training Loss: 0.011331 Training Acc.: 0.995885\n",
            "-----------Validation in Progress --------------\n",
            "100% 13/13 [00:06<00:00,  2.09it/s]\n",
            "\n",
            "Val Loss: 0.9420 Val Acc.: 0.3892\n",
            "\n",
            "13it [07:34, 34.87s/it]\n",
            "Epoch 14/20\n",
            "-----------Trainning in Progress --------------\n",
            "100% 23/23 [00:28<00:00,  1.23s/it]\n",
            "Training Loss: 0.009800 Training Acc.: 0.997257\n",
            "-----------Validation in Progress --------------\n",
            "100% 13/13 [00:06<00:00,  2.06it/s]\n",
            "\n",
            "Val Loss: 0.6174 Val Acc.: 0.7340\n",
            "\n",
            "14it [08:08, 34.80s/it]\n",
            "Epoch 15/20\n",
            "-----------Trainning in Progress --------------\n",
            "100% 23/23 [00:28<00:00,  1.24s/it]\n",
            "Training Loss: 0.005541 Training Acc.: 0.999314\n",
            "-----------Validation in Progress --------------\n",
            "100% 13/13 [00:06<00:00,  2.10it/s]\n",
            "\n",
            "Val Loss: 1.5316 Val Acc.: 0.7685\n",
            "\n",
            "15it [08:43, 34.75s/it]\n",
            "Epoch 16/20\n",
            "-----------Trainning in Progress --------------\n",
            "100% 23/23 [00:29<00:00,  1.27s/it]\n",
            "Training Loss: 0.001334 Training Acc.: 1.000000\n",
            "-----------Validation in Progress --------------\n",
            "100% 13/13 [00:06<00:00,  2.08it/s]\n",
            "\n",
            "Val Loss: 1.0894 Val Acc.: 0.7512\n",
            "\n",
            "16it [09:18, 34.97s/it]\n",
            "Epoch 17/20\n",
            "-----------Trainning in Progress --------------\n",
            "100% 23/23 [00:28<00:00,  1.23s/it]\n",
            "Training Loss: 0.000237 Training Acc.: 1.000000\n",
            "-----------Validation in Progress --------------\n",
            "100% 13/13 [00:06<00:00,  2.07it/s]\n",
            "\n",
            "Val Loss: 1.2203 Val Acc.: 0.7291\n",
            "\n",
            "17it [09:53, 34.85s/it]\n",
            "Epoch 18/20\n",
            "-----------Trainning in Progress --------------\n",
            "100% 23/23 [00:28<00:00,  1.23s/it]\n",
            "Training Loss: 0.000148 Training Acc.: 1.000000\n",
            "-----------Validation in Progress --------------\n",
            "100% 13/13 [00:06<00:00,  2.07it/s]\n",
            "\n",
            "Val Loss: 1.4015 Val Acc.: 0.7389\n",
            "\n",
            "18it [10:28, 34.79s/it]\n",
            "Epoch 19/20\n",
            "-----------Trainning in Progress --------------\n",
            "100% 23/23 [00:28<00:00,  1.24s/it]\n",
            "Training Loss: 0.000114 Training Acc.: 1.000000\n",
            "-----------Validation in Progress --------------\n",
            "100% 13/13 [00:06<00:00,  2.09it/s]\n",
            "\n",
            "Val Loss: 1.5464 Val Acc.: 0.7414\n",
            "\n",
            "19it [11:02, 34.75s/it]\n",
            "Epoch 20/20\n",
            "-----------Trainning in Progress --------------\n",
            "100% 23/23 [00:28<00:00,  1.23s/it]\n",
            "Training Loss: 0.000099 Training Acc.: 1.000000\n",
            "-----------Validation in Progress --------------\n",
            "100% 13/13 [00:07<00:00,  1.79it/s]\n",
            "\n",
            "Val Loss: 1.6694 Val Acc.: 0.7340\n",
            "\n",
            "20it [11:38, 34.92s/it]\n",
            "-------Testing Model------------\n",
            "100% 13/13 [00:06<00:00,  2.06it/s]\n",
            "\n",
            "Test Loss: 1.66941 Test Acc.: 0.73399\n",
            "\n"
          ]
        }
      ]
    },
    {
      "cell_type": "code",
      "source": [],
      "metadata": {
        "id": "H_fbieVXa9w6"
      },
      "execution_count": null,
      "outputs": []
    }
  ]
}